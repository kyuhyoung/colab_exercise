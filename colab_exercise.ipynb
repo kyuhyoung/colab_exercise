{
  "nbformat": 4,
  "nbformat_minor": 0,
  "metadata": {
    "colab": {
      "name": "Untitled0.ipynb",
      "version": "0.3.2",
      "provenance": [],
      "toc_visible": true
    },
    "kernelspec": {
      "name": "python3",
      "display_name": "Python 3"
    },
    "accelerator": "GPU"
  },
  "cells": [
    {
      "cell_type": "markdown",
      "metadata": {
        "id": "view-in-github",
        "colab_type": "text"
      },
      "source": [
        "[View in Colaboratory](https://colab.research.google.com/github/kyuhyoung/colab_exercise/blob/master/colab_exercise.ipynb)"
      ]
    },
    {
      "metadata": {
        "id": "_wqZyVdpymkV",
        "colab_type": "text"
      },
      "cell_type": "markdown",
      "source": [
        "# cuda version check"
      ]
    },
    {
      "metadata": {
        "id": "vxR6l-LFyrhh",
        "colab_type": "code",
        "colab": {
          "base_uri": "https://localhost:8080/",
          "height": 34
        },
        "outputId": "c39a6064-6fae-4a76-d551-15803a0028e2"
      },
      "cell_type": "code",
      "source": [
        "import os, sys\n",
        "e = os.system('ls')\n",
        "import subprocess\n",
        "#subprocess.call('nvcc --version', shell=True)\n",
        "subprocess.call(['ls', '-alh'])\n",
        "import torch\n",
        "torch.__version__\n",
        "accelerator\n",
        "platform"
      ],
      "execution_count": 0,
      "outputs": [
        {
          "output_type": "execute_result",
          "data": {
            "text/plain": [
              "'cp36-cp36m'"
            ]
          },
          "metadata": {
            "tags": []
          },
          "execution_count": 24
        }
      ]
    },
    {
      "metadata": {
        "id": "xES9BqBEue-s",
        "colab_type": "code",
        "colab": {
          "base_uri": "https://localhost:8080/",
          "height": 52
        },
        "outputId": "16630945-a6ec-45a3-b03a-3f2480042328"
      },
      "cell_type": "code",
      "source": [
        "# http://pytorch.org/\n",
        "from os import path\n",
        "from wheel.pep425tags import get_abbr_impl, get_impl_ver, get_abi_tag\n",
        "platform = '{}{}-{}'.format(get_abbr_impl(), get_impl_ver(), get_abi_tag())\n",
        "\n",
        "accelerator = 'cu80' if path.exists('/opt/bin/nvidia-smi') else 'cpu'\n",
        "\n",
        "!pip install -q http://download.pytorch.org/whl/{accelerator}/torch-0.3.0.post4-{platform}-linux_x86_64.whl torchvision\n",
        "import torch, torchvision\n",
        "print(torch.__version__)\n",
        "print(torchvision.__version__)"
      ],
      "execution_count": 0,
      "outputs": [
        {
          "output_type": "stream",
          "text": [
            "0.3.0.post4\n",
            "0.2.1\n"
          ],
          "name": "stdout"
        }
      ]
    },
    {
      "metadata": {
        "id": "FwZs_NJUspZB",
        "colab_type": "text"
      },
      "cell_type": "markdown",
      "source": [
        "# pytorch install"
      ]
    },
    {
      "metadata": {
        "id": "2CjqbLe8surS",
        "colab_type": "code",
        "colab": {
          "base_uri": "https://localhost:8080/",
          "height": 424
        },
        "outputId": "90f90415-8082-4f1e-d765-c615deddca20"
      },
      "cell_type": "code",
      "source": [
        "!pip3 install http://download.pytorch.org/whl/cu80/torch-0.3.0.post4-cp36-cp36m-linux_x86_64.whl\n",
        "!pip3 install torchvision"
      ],
      "execution_count": 0,
      "outputs": [
        {
          "output_type": "stream",
          "text": [
            "Collecting torch==0.3.0.post4 from http://download.pytorch.org/whl/cu80/torch-0.3.0.post4-cp36-cp36m-linux_x86_64.whl\n",
            "\u001b[?25l  Downloading http://download.pytorch.org/whl/cu80/torch-0.3.0.post4-cp36-cp36m-linux_x86_64.whl (592.3MB)\n",
            "\u001b[K    100% |████████████████████████████████| 592.3MB 39.7MB/s \n",
            "\u001b[?25hRequirement already satisfied: numpy in /usr/local/lib/python3.6/dist-packages (from torch==0.3.0.post4) (1.14.3)\n",
            "Requirement already satisfied: pyyaml in /usr/local/lib/python3.6/dist-packages (from torch==0.3.0.post4) (3.12)\n",
            "Installing collected packages: torch\n",
            "Successfully installed torch-0.3.0.post4\n",
            "Collecting torchvision\n"
          ],
          "name": "stdout"
        },
        {
          "output_type": "stream",
          "text": [
            "\u001b[?25l  Downloading https://files.pythonhosted.org/packages/ca/0d/f00b2885711e08bd71242ebe7b96561e6f6d01fdb4b9dcf4d37e2e13c5e1/torchvision-0.2.1-py2.py3-none-any.whl (54kB)\n",
            "\u001b[K    100% |████████████████████████████████| 61kB 2.2MB/s \n",
            "\u001b[?25hRequirement already satisfied: six in /usr/local/lib/python3.6/dist-packages (from torchvision) (1.11.0)\n",
            "Collecting pillow>=4.1.1 (from torchvision)\n",
            "\u001b[?25l  Downloading https://files.pythonhosted.org/packages/5f/4b/8b54ab9d37b93998c81b364557dff9f61972c0f650efa0ceaf470b392740/Pillow-5.1.0-cp36-cp36m-manylinux1_x86_64.whl (2.0MB)\n",
            "\u001b[K    100% |████████████████████████████████| 2.0MB 7.3MB/s \n",
            "\u001b[?25hRequirement already satisfied: torch in /usr/local/lib/python3.6/dist-packages (from torchvision) (0.3.0.post4)\n",
            "Requirement already satisfied: numpy in /usr/local/lib/python3.6/dist-packages (from torchvision) (1.14.3)\n",
            "Requirement already satisfied: pyyaml in /usr/local/lib/python3.6/dist-packages (from torch->torchvision) (3.12)\n",
            "Installing collected packages: pillow, torchvision\n",
            "  Found existing installation: Pillow 4.0.0\n",
            "    Uninstalling Pillow-4.0.0:\n",
            "      Successfully uninstalled Pillow-4.0.0\n",
            "Successfully installed pillow-5.1.0 torchvision-0.2.1\n"
          ],
          "name": "stdout"
        }
      ]
    },
    {
      "metadata": {
        "id": "WifGRulYiReM",
        "colab_type": "text"
      },
      "cell_type": "markdown",
      "source": [
        "# check matrix calculation of tensorflow"
      ]
    },
    {
      "metadata": {
        "id": "1kCxPBxHg4-d",
        "colab_type": "code",
        "colab": {
          "base_uri": "https://localhost:8080/",
          "height": 87
        },
        "outputId": "bc99c279-b552-4c5c-8395-c056b69b4b9c"
      },
      "cell_type": "code",
      "source": [
        "import sys\n",
        "import tensorflow as tf\n",
        "import numpy as np\n",
        "\n",
        "print(tf.test.gpu_device_name())\n",
        "\n",
        "print(sys.version_info[0])\n",
        "\n",
        "with tf.Session():\n",
        "  input1 = tf.constant(1.0, shape=[2, 3])\n",
        "  input2 = tf.constant(np.reshape(np.arange(1.0, 7.0, dtype=np.float32), (2, 3)))\n",
        "  output = tf.add(input1, input2)\n",
        "  result = output.eval()\n",
        "result                \n"
      ],
      "execution_count": 0,
      "outputs": [
        {
          "output_type": "stream",
          "text": [
            "/device:GPU:0\n",
            "3\n"
          ],
          "name": "stdout"
        },
        {
          "output_type": "execute_result",
          "data": {
            "text/plain": [
              "array([[2., 3., 4.],\n",
              "       [5., 6., 7.]], dtype=float32)"
            ]
          },
          "metadata": {
            "tags": []
          },
          "execution_count": 23
        }
      ]
    },
    {
      "metadata": {
        "id": "3wUhgauRhhCR",
        "colab_type": "text"
      },
      "cell_type": "markdown",
      "source": [
        "# using theano as keras backend"
      ]
    },
    {
      "metadata": {
        "id": "3Wjvq2BypAkm",
        "colab_type": "code",
        "colab": {
          "base_uri": "https://localhost:8080/",
          "height": 87
        },
        "outputId": "9660af2b-9837-467b-9b03-9e7739a6f719"
      },
      "cell_type": "code",
      "source": [
        "from keras import backend as K\n",
        "import keras, os, importlib, torch\n",
        "\n",
        "def set_keras_backend(backend):\n",
        "\n",
        "    if K.backend() != backend:\n",
        "        os.environ['KERAS_BACKEND'] = backend\n",
        "        importlib.reload(K)\n",
        "        #reload(K)\n",
        "        assert K.backend() == backend    \n",
        "\n",
        "print(keras.backend.backend())\n",
        "print(keras.backend.image_dim_ordering())\n",
        "#'''\n",
        "set_keras_backend(\"theano\")\n",
        "K.set_image_dim_ordering('th')\n",
        "#'''\n",
        "'''\n",
        "set_keras_backend(\"tensorflow\")\n",
        "#K.set_image_dim_ordering('tf')\n",
        "'''\n",
        "print(keras.backend.backend())\n",
        "print(keras.backend.image_dim_ordering())\n"
      ],
      "execution_count": 0,
      "outputs": [
        {
          "output_type": "stream",
          "text": [
            "theano\n",
            "tf\n",
            "theano\n",
            "th\n"
          ],
          "name": "stdout"
        }
      ]
    },
    {
      "metadata": {
        "id": "QuNI8ijox0WC",
        "colab_type": "text"
      },
      "cell_type": "markdown",
      "source": [
        "# theano check"
      ]
    },
    {
      "metadata": {
        "id": "eHBe-hVAx4C4",
        "colab_type": "code",
        "colab": {
          "base_uri": "https://localhost:8080/",
          "height": 283
        },
        "outputId": "2d69af7d-82b3-4b0f-d5c2-4556d510f343"
      },
      "cell_type": "code",
      "source": [
        "!pip install theano\n",
        "import torch\n",
        "print(torch.__version__)\n",
        "import theano\n",
        "print(theano.__version__)"
      ],
      "execution_count": 0,
      "outputs": [
        {
          "output_type": "stream",
          "text": [
            "Collecting theano\n",
            "\u001b[?25l  Downloading https://files.pythonhosted.org/packages/99/dd/e43e3da5dd52f1468def552ed3e752bfd6958369478cc906ff07b21af92e/Theano-1.0.2.tar.gz (2.8MB)\n",
            "\u001b[K    100% |████████████████████████████████| 2.8MB 8.7MB/s \n",
            "\u001b[?25hRequirement already satisfied: numpy>=1.9.1 in /usr/local/lib/python3.6/dist-packages (from theano) (1.14.3)\n",
            "Requirement already satisfied: scipy>=0.14 in /usr/local/lib/python3.6/dist-packages (from theano) (0.19.1)\n",
            "Requirement already satisfied: six>=1.9.0 in /usr/local/lib/python3.6/dist-packages (from theano) (1.11.0)\n",
            "Building wheels for collected packages: theano\n",
            "  Running setup.py bdist_wheel for theano ... \u001b[?25l-\b \b\\\b \b|\b \b/\b \b-\b \b\\\b \b|\b \b/\b \bdone\n",
            "\u001b[?25h  Stored in directory: /content/.cache/pip/wheels/87/1e/28/4a63195927452fb42d4ea6d1e5b3b1690409d66802cc9e1e6e\n",
            "Successfully built theano\n",
            "Installing collected packages: theano\n",
            "Successfully installed theano-1.0.2\n",
            "0.3.0.post4\n",
            "1.0.2\n"
          ],
          "name": "stdout"
        }
      ]
    },
    {
      "metadata": {
        "id": "AXdflTRE58Yz",
        "colab_type": "text"
      },
      "cell_type": "markdown",
      "source": [
        "# keras cnn"
      ]
    },
    {
      "metadata": {
        "id": "mY3Zz01Q5ztv",
        "colab_type": "code",
        "colab": {
          "base_uri": "https://localhost:8080/",
          "height": 1826
        },
        "outputId": "cc15805c-db11-4075-c695-a5437ed29c5b"
      },
      "cell_type": "code",
      "source": [
        "# -*- coding: utf-8 -*-\n",
        "################################################################################################\n",
        "# reference : https://elitedatascience.com/keras-tutorial-deep-learning-in-python\n",
        "################################################################################################\n",
        "import numpy as np                  # NumPy\n",
        "from matplotlib import pyplot as plt\n",
        "from keras.models import Sequential # 이하 Keras 모듈들입니다.\n",
        "from keras.layers import Dense, Dropout, Activation, Flatten, Conv2D, MaxPool2D\n",
        "from keras.utils import np_utils\n",
        "from keras.datasets import mnist\n",
        "\n",
        "np.random.seed(123)                 # 랜덤시드를 지정하면, 재실행시에도 같은 랜덤값을 추출합니다(reproducibility)\n",
        "# Load pre-shuffled MNIST data into train and test sets\n",
        "(X_train, y_train), (X_test, y_test) = mnist.load_data()\n",
        "print(X_train.shape)\n",
        "print(X_test.shape)\n",
        "print(y_train.shape)\n",
        "print(y_test.shape)\n",
        "#plt.imshow(X_train[0])\n",
        "X_train = X_train.reshape(X_train.shape[0], 1, 28, 28)\n",
        "print(X_train.shape)\n",
        "#plt.imshow(X_train[0, 0])\n",
        "X_test = X_test.reshape(X_test.shape[0], 1, 28, 28)\n",
        "\n",
        "X_train = X_train.astype('float32')\n",
        "X_test = X_test.astype('float32')\n",
        "X_train /= 255\n",
        "X_test /= 255\n",
        "\n",
        "print(y_train[:10])\n",
        "Y_train = np_utils.to_categorical(y_train, 10)\n",
        "print(Y_train.shape)\n",
        "Y_test = np_utils.to_categorical(y_test, 10)\n",
        "\n",
        "model = Sequential()\n",
        "model.add(Conv2D(32, (3, 3), activation='relu', input_shape=(1,28,28)))\n",
        "print(model.output_shape)\n",
        "model.add(Conv2D(32, (3, 3), activation='relu'))\n",
        "print(model.output_shape)\n",
        "model.add(MaxPool2D(pool_size=(2,2)))\n",
        "print(model.output_shape)\n",
        "model.add(Dropout(0.25))\n",
        "print(model.output_shape)\n",
        "model.add(Flatten())\n",
        "print(model.output_shape)\n",
        "model.add(Dense(128, activation='relu'))\n",
        "print(model.output_shape)\n",
        "model.add(Dropout(0.5))\n",
        "print(model.output_shape)\n",
        "model.add(Dense(10, activation='softmax'))\n",
        "print(model.output_shape)\n",
        "\n",
        "model.compile(loss='categorical_crossentropy',\n",
        "              optimizer='adam',\n",
        "              metrics=['accuracy'])\n",
        "print(model.input_shape)\n",
        "print(model.output_shape)\n",
        "\n",
        "model.fit(X_train, Y_train,\n",
        "          batch_size=2, epochs=10, verbose=2)\n",
        "dummy = 0\n"
      ],
      "execution_count": 0,
      "outputs": [
        {
          "output_type": "stream",
          "text": [
            "(60000, 28, 28)\n",
            "(10000, 28, 28)\n",
            "(60000,)\n",
            "(10000,)\n",
            "(60000, 1, 28, 28)\n",
            "[5 0 4 1 9 2 1 3 1 4]\n",
            "(60000, 10)\n",
            "(None, 32, 26, 26)\n",
            "(None, 32, 24, 24)\n",
            "(None, 32, 12, 12)\n",
            "(None, 32, 12, 12)\n",
            "(None, 4608)\n",
            "(None, 128)\n",
            "(None, 128)\n",
            "(None, 10)\n",
            "(None, 1, 28, 28)\n",
            "(None, 10)\n",
            "Epoch 1/10\n",
            " - 250s - loss: 0.1769 - acc: 0.9473\n",
            "Epoch 2/10\n"
          ],
          "name": "stdout"
        },
        {
          "output_type": "error",
          "ename": "KeyboardInterrupt",
          "evalue": "ignored",
          "traceback": [
            "\u001b[0;31m---------------------------------------------------------------------------\u001b[0m",
            "\u001b[0;31mKeyboardInterrupt\u001b[0m                         Traceback (most recent call last)",
            "\u001b[0;32m<ipython-input-31-2f59418dd378>\u001b[0m in \u001b[0;36m<module>\u001b[0;34m()\u001b[0m\n\u001b[1;32m     54\u001b[0m \u001b[0;34m\u001b[0m\u001b[0m\n\u001b[1;32m     55\u001b[0m model.fit(X_train, Y_train,\n\u001b[0;32m---> 56\u001b[0;31m           batch_size=2, epochs=10, verbose=2)\n\u001b[0m\u001b[1;32m     57\u001b[0m \u001b[0mdummy\u001b[0m \u001b[0;34m=\u001b[0m \u001b[0;36m0\u001b[0m\u001b[0;34m\u001b[0m\u001b[0m\n",
            "\u001b[0;32m/usr/local/lib/python3.6/dist-packages/keras/models.py\u001b[0m in \u001b[0;36mfit\u001b[0;34m(self, x, y, batch_size, epochs, verbose, callbacks, validation_split, validation_data, shuffle, class_weight, sample_weight, initial_epoch, steps_per_epoch, validation_steps, **kwargs)\u001b[0m\n\u001b[1;32m   1000\u001b[0m                               \u001b[0minitial_epoch\u001b[0m\u001b[0;34m=\u001b[0m\u001b[0minitial_epoch\u001b[0m\u001b[0;34m,\u001b[0m\u001b[0;34m\u001b[0m\u001b[0m\n\u001b[1;32m   1001\u001b[0m                               \u001b[0msteps_per_epoch\u001b[0m\u001b[0;34m=\u001b[0m\u001b[0msteps_per_epoch\u001b[0m\u001b[0;34m,\u001b[0m\u001b[0;34m\u001b[0m\u001b[0m\n\u001b[0;32m-> 1002\u001b[0;31m                               validation_steps=validation_steps)\n\u001b[0m\u001b[1;32m   1003\u001b[0m \u001b[0;34m\u001b[0m\u001b[0m\n\u001b[1;32m   1004\u001b[0m     def evaluate(self, x=None, y=None,\n",
            "\u001b[0;32m/usr/local/lib/python3.6/dist-packages/keras/engine/training.py\u001b[0m in \u001b[0;36mfit\u001b[0;34m(self, x, y, batch_size, epochs, verbose, callbacks, validation_split, validation_data, shuffle, class_weight, sample_weight, initial_epoch, steps_per_epoch, validation_steps, **kwargs)\u001b[0m\n\u001b[1;32m   1703\u001b[0m                               \u001b[0minitial_epoch\u001b[0m\u001b[0;34m=\u001b[0m\u001b[0minitial_epoch\u001b[0m\u001b[0;34m,\u001b[0m\u001b[0;34m\u001b[0m\u001b[0m\n\u001b[1;32m   1704\u001b[0m                               \u001b[0msteps_per_epoch\u001b[0m\u001b[0;34m=\u001b[0m\u001b[0msteps_per_epoch\u001b[0m\u001b[0;34m,\u001b[0m\u001b[0;34m\u001b[0m\u001b[0m\n\u001b[0;32m-> 1705\u001b[0;31m                               validation_steps=validation_steps)\n\u001b[0m\u001b[1;32m   1706\u001b[0m \u001b[0;34m\u001b[0m\u001b[0m\n\u001b[1;32m   1707\u001b[0m     def evaluate(self, x=None, y=None,\n",
            "\u001b[0;32m/usr/local/lib/python3.6/dist-packages/keras/engine/training.py\u001b[0m in \u001b[0;36m_fit_loop\u001b[0;34m(self, f, ins, out_labels, batch_size, epochs, verbose, callbacks, val_f, val_ins, shuffle, callback_metrics, initial_epoch, steps_per_epoch, validation_steps)\u001b[0m\n\u001b[1;32m   1234\u001b[0m                         \u001b[0mins_batch\u001b[0m\u001b[0;34m[\u001b[0m\u001b[0mi\u001b[0m\u001b[0;34m]\u001b[0m \u001b[0;34m=\u001b[0m \u001b[0mins_batch\u001b[0m\u001b[0;34m[\u001b[0m\u001b[0mi\u001b[0m\u001b[0;34m]\u001b[0m\u001b[0;34m.\u001b[0m\u001b[0mtoarray\u001b[0m\u001b[0;34m(\u001b[0m\u001b[0;34m)\u001b[0m\u001b[0;34m\u001b[0m\u001b[0m\n\u001b[1;32m   1235\u001b[0m \u001b[0;34m\u001b[0m\u001b[0m\n\u001b[0;32m-> 1236\u001b[0;31m                     \u001b[0mouts\u001b[0m \u001b[0;34m=\u001b[0m \u001b[0mf\u001b[0m\u001b[0;34m(\u001b[0m\u001b[0mins_batch\u001b[0m\u001b[0;34m)\u001b[0m\u001b[0;34m\u001b[0m\u001b[0m\n\u001b[0m\u001b[1;32m   1237\u001b[0m                     \u001b[0;32mif\u001b[0m \u001b[0;32mnot\u001b[0m \u001b[0misinstance\u001b[0m\u001b[0;34m(\u001b[0m\u001b[0mouts\u001b[0m\u001b[0;34m,\u001b[0m \u001b[0mlist\u001b[0m\u001b[0;34m)\u001b[0m\u001b[0;34m:\u001b[0m\u001b[0;34m\u001b[0m\u001b[0m\n\u001b[1;32m   1238\u001b[0m                         \u001b[0mouts\u001b[0m \u001b[0;34m=\u001b[0m \u001b[0;34m[\u001b[0m\u001b[0mouts\u001b[0m\u001b[0;34m]\u001b[0m\u001b[0;34m\u001b[0m\u001b[0m\n",
            "\u001b[0;32m/usr/local/lib/python3.6/dist-packages/keras/backend/tensorflow_backend.py\u001b[0m in \u001b[0;36m__call__\u001b[0;34m(self, inputs)\u001b[0m\n\u001b[1;32m   2480\u001b[0m         \u001b[0msession\u001b[0m \u001b[0;34m=\u001b[0m \u001b[0mget_session\u001b[0m\u001b[0;34m(\u001b[0m\u001b[0;34m)\u001b[0m\u001b[0;34m\u001b[0m\u001b[0m\n\u001b[1;32m   2481\u001b[0m         updated = session.run(fetches=fetches, feed_dict=feed_dict,\n\u001b[0;32m-> 2482\u001b[0;31m                               **self.session_kwargs)\n\u001b[0m\u001b[1;32m   2483\u001b[0m         \u001b[0;32mreturn\u001b[0m \u001b[0mupdated\u001b[0m\u001b[0;34m[\u001b[0m\u001b[0;34m:\u001b[0m\u001b[0mlen\u001b[0m\u001b[0;34m(\u001b[0m\u001b[0mself\u001b[0m\u001b[0;34m.\u001b[0m\u001b[0moutputs\u001b[0m\u001b[0;34m)\u001b[0m\u001b[0;34m]\u001b[0m\u001b[0;34m\u001b[0m\u001b[0m\n\u001b[1;32m   2484\u001b[0m \u001b[0;34m\u001b[0m\u001b[0m\n",
            "\u001b[0;32m/usr/local/lib/python3.6/dist-packages/tensorflow/python/client/session.py\u001b[0m in \u001b[0;36mrun\u001b[0;34m(self, fetches, feed_dict, options, run_metadata)\u001b[0m\n\u001b[1;32m    898\u001b[0m     \u001b[0;32mtry\u001b[0m\u001b[0;34m:\u001b[0m\u001b[0;34m\u001b[0m\u001b[0m\n\u001b[1;32m    899\u001b[0m       result = self._run(None, fetches, feed_dict, options_ptr,\n\u001b[0;32m--> 900\u001b[0;31m                          run_metadata_ptr)\n\u001b[0m\u001b[1;32m    901\u001b[0m       \u001b[0;32mif\u001b[0m \u001b[0mrun_metadata\u001b[0m\u001b[0;34m:\u001b[0m\u001b[0;34m\u001b[0m\u001b[0m\n\u001b[1;32m    902\u001b[0m         \u001b[0mproto_data\u001b[0m \u001b[0;34m=\u001b[0m \u001b[0mtf_session\u001b[0m\u001b[0;34m.\u001b[0m\u001b[0mTF_GetBuffer\u001b[0m\u001b[0;34m(\u001b[0m\u001b[0mrun_metadata_ptr\u001b[0m\u001b[0;34m)\u001b[0m\u001b[0;34m\u001b[0m\u001b[0m\n",
            "\u001b[0;32m/usr/local/lib/python3.6/dist-packages/tensorflow/python/client/session.py\u001b[0m in \u001b[0;36m_run\u001b[0;34m(self, handle, fetches, feed_dict, options, run_metadata)\u001b[0m\n\u001b[1;32m   1133\u001b[0m     \u001b[0;32mif\u001b[0m \u001b[0mfinal_fetches\u001b[0m \u001b[0;32mor\u001b[0m \u001b[0mfinal_targets\u001b[0m \u001b[0;32mor\u001b[0m \u001b[0;34m(\u001b[0m\u001b[0mhandle\u001b[0m \u001b[0;32mand\u001b[0m \u001b[0mfeed_dict_tensor\u001b[0m\u001b[0;34m)\u001b[0m\u001b[0;34m:\u001b[0m\u001b[0;34m\u001b[0m\u001b[0m\n\u001b[1;32m   1134\u001b[0m       results = self._do_run(handle, final_targets, final_fetches,\n\u001b[0;32m-> 1135\u001b[0;31m                              feed_dict_tensor, options, run_metadata)\n\u001b[0m\u001b[1;32m   1136\u001b[0m     \u001b[0;32melse\u001b[0m\u001b[0;34m:\u001b[0m\u001b[0;34m\u001b[0m\u001b[0m\n\u001b[1;32m   1137\u001b[0m       \u001b[0mresults\u001b[0m \u001b[0;34m=\u001b[0m \u001b[0;34m[\u001b[0m\u001b[0;34m]\u001b[0m\u001b[0;34m\u001b[0m\u001b[0m\n",
            "\u001b[0;32m/usr/local/lib/python3.6/dist-packages/tensorflow/python/client/session.py\u001b[0m in \u001b[0;36m_do_run\u001b[0;34m(self, handle, target_list, fetch_list, feed_dict, options, run_metadata)\u001b[0m\n\u001b[1;32m   1314\u001b[0m     \u001b[0;32mif\u001b[0m \u001b[0mhandle\u001b[0m \u001b[0;32mis\u001b[0m \u001b[0;32mNone\u001b[0m\u001b[0;34m:\u001b[0m\u001b[0;34m\u001b[0m\u001b[0m\n\u001b[1;32m   1315\u001b[0m       return self._do_call(_run_fn, feeds, fetches, targets, options,\n\u001b[0;32m-> 1316\u001b[0;31m                            run_metadata)\n\u001b[0m\u001b[1;32m   1317\u001b[0m     \u001b[0;32melse\u001b[0m\u001b[0;34m:\u001b[0m\u001b[0;34m\u001b[0m\u001b[0m\n\u001b[1;32m   1318\u001b[0m       \u001b[0;32mreturn\u001b[0m \u001b[0mself\u001b[0m\u001b[0;34m.\u001b[0m\u001b[0m_do_call\u001b[0m\u001b[0;34m(\u001b[0m\u001b[0m_prun_fn\u001b[0m\u001b[0;34m,\u001b[0m \u001b[0mhandle\u001b[0m\u001b[0;34m,\u001b[0m \u001b[0mfeeds\u001b[0m\u001b[0;34m,\u001b[0m \u001b[0mfetches\u001b[0m\u001b[0;34m)\u001b[0m\u001b[0;34m\u001b[0m\u001b[0m\n",
            "\u001b[0;32m/usr/local/lib/python3.6/dist-packages/tensorflow/python/client/session.py\u001b[0m in \u001b[0;36m_do_call\u001b[0;34m(self, fn, *args)\u001b[0m\n\u001b[1;32m   1320\u001b[0m   \u001b[0;32mdef\u001b[0m \u001b[0m_do_call\u001b[0m\u001b[0;34m(\u001b[0m\u001b[0mself\u001b[0m\u001b[0;34m,\u001b[0m \u001b[0mfn\u001b[0m\u001b[0;34m,\u001b[0m \u001b[0;34m*\u001b[0m\u001b[0margs\u001b[0m\u001b[0;34m)\u001b[0m\u001b[0;34m:\u001b[0m\u001b[0;34m\u001b[0m\u001b[0m\n\u001b[1;32m   1321\u001b[0m     \u001b[0;32mtry\u001b[0m\u001b[0;34m:\u001b[0m\u001b[0;34m\u001b[0m\u001b[0m\n\u001b[0;32m-> 1322\u001b[0;31m       \u001b[0;32mreturn\u001b[0m \u001b[0mfn\u001b[0m\u001b[0;34m(\u001b[0m\u001b[0;34m*\u001b[0m\u001b[0margs\u001b[0m\u001b[0;34m)\u001b[0m\u001b[0;34m\u001b[0m\u001b[0m\n\u001b[0m\u001b[1;32m   1323\u001b[0m     \u001b[0;32mexcept\u001b[0m \u001b[0merrors\u001b[0m\u001b[0;34m.\u001b[0m\u001b[0mOpError\u001b[0m \u001b[0;32mas\u001b[0m \u001b[0me\u001b[0m\u001b[0;34m:\u001b[0m\u001b[0;34m\u001b[0m\u001b[0m\n\u001b[1;32m   1324\u001b[0m       \u001b[0mmessage\u001b[0m \u001b[0;34m=\u001b[0m \u001b[0mcompat\u001b[0m\u001b[0;34m.\u001b[0m\u001b[0mas_text\u001b[0m\u001b[0;34m(\u001b[0m\u001b[0me\u001b[0m\u001b[0;34m.\u001b[0m\u001b[0mmessage\u001b[0m\u001b[0;34m)\u001b[0m\u001b[0;34m\u001b[0m\u001b[0m\n",
            "\u001b[0;32m/usr/local/lib/python3.6/dist-packages/tensorflow/python/client/session.py\u001b[0m in \u001b[0;36m_run_fn\u001b[0;34m(feed_dict, fetch_list, target_list, options, run_metadata)\u001b[0m\n\u001b[1;32m   1305\u001b[0m       \u001b[0mself\u001b[0m\u001b[0;34m.\u001b[0m\u001b[0m_extend_graph\u001b[0m\u001b[0;34m(\u001b[0m\u001b[0;34m)\u001b[0m\u001b[0;34m\u001b[0m\u001b[0m\n\u001b[1;32m   1306\u001b[0m       return self._call_tf_sessionrun(\n\u001b[0;32m-> 1307\u001b[0;31m           options, feed_dict, fetch_list, target_list, run_metadata)\n\u001b[0m\u001b[1;32m   1308\u001b[0m \u001b[0;34m\u001b[0m\u001b[0m\n\u001b[1;32m   1309\u001b[0m     \u001b[0;32mdef\u001b[0m \u001b[0m_prun_fn\u001b[0m\u001b[0;34m(\u001b[0m\u001b[0mhandle\u001b[0m\u001b[0;34m,\u001b[0m \u001b[0mfeed_dict\u001b[0m\u001b[0;34m,\u001b[0m \u001b[0mfetch_list\u001b[0m\u001b[0;34m)\u001b[0m\u001b[0;34m:\u001b[0m\u001b[0;34m\u001b[0m\u001b[0m\n",
            "\u001b[0;32m/usr/local/lib/python3.6/dist-packages/tensorflow/python/client/session.py\u001b[0m in \u001b[0;36m_call_tf_sessionrun\u001b[0;34m(self, options, feed_dict, fetch_list, target_list, run_metadata)\u001b[0m\n\u001b[1;32m   1407\u001b[0m       return tf_session.TF_SessionRun_wrapper(\n\u001b[1;32m   1408\u001b[0m           \u001b[0mself\u001b[0m\u001b[0;34m.\u001b[0m\u001b[0m_session\u001b[0m\u001b[0;34m,\u001b[0m \u001b[0moptions\u001b[0m\u001b[0;34m,\u001b[0m \u001b[0mfeed_dict\u001b[0m\u001b[0;34m,\u001b[0m \u001b[0mfetch_list\u001b[0m\u001b[0;34m,\u001b[0m \u001b[0mtarget_list\u001b[0m\u001b[0;34m,\u001b[0m\u001b[0;34m\u001b[0m\u001b[0m\n\u001b[0;32m-> 1409\u001b[0;31m           run_metadata)\n\u001b[0m\u001b[1;32m   1410\u001b[0m     \u001b[0;32melse\u001b[0m\u001b[0;34m:\u001b[0m\u001b[0;34m\u001b[0m\u001b[0m\n\u001b[1;32m   1411\u001b[0m       \u001b[0;32mwith\u001b[0m \u001b[0merrors\u001b[0m\u001b[0;34m.\u001b[0m\u001b[0mraise_exception_on_not_ok_status\u001b[0m\u001b[0;34m(\u001b[0m\u001b[0;34m)\u001b[0m \u001b[0;32mas\u001b[0m \u001b[0mstatus\u001b[0m\u001b[0;34m:\u001b[0m\u001b[0;34m\u001b[0m\u001b[0m\n",
            "\u001b[0;31mKeyboardInterrupt\u001b[0m: "
          ]
        }
      ]
    },
    {
      "metadata": {
        "id": "9S4Afhic_WZ_",
        "colab_type": "text"
      },
      "cell_type": "markdown",
      "source": [
        "# theano cnn"
      ]
    },
    {
      "metadata": {
        "id": "VCGbVetY_ZaQ",
        "colab_type": "code",
        "colab": {
          "base_uri": "https://localhost:8080/",
          "height": 787
        },
        "outputId": "a5547ec5-e456-4cfa-8bcc-45be3d674706"
      },
      "cell_type": "code",
      "source": [
        "import numpy as np\n",
        "import os\n",
        "\n",
        "'''\n",
        "datasets_dir = '/media/datasets/'\n",
        "\n",
        "def one_hot(x,n):\n",
        "\tif type(x) == list:\n",
        "\t\tx = np.array(x)\n",
        "\tx = x.flatten()\n",
        "\to_h = np.zeros((len(x),n))\n",
        "\to_h[np.arange(len(x)),x] = 1\n",
        "\treturn o_h\n",
        "\n",
        "def mnist(ntrain=60000,ntest=10000,onehot=True):\n",
        "\tdata_dir = os.path.join(datasets_dir,'mnist/')\n",
        "\tfd = open(os.path.join(data_dir,'train-images-idx3-ubyte'))\n",
        "\tloaded = np.fromfile(file=fd,dtype=np.uint8)\n",
        "\ttrX = loaded[16:].reshape((60000,28*28)).astype(float)\n",
        "\n",
        "\tfd = open(os.path.join(data_dir,'train-labels-idx1-ubyte'))\n",
        "\tloaded = np.fromfile(file=fd,dtype=np.uint8)\n",
        "\ttrY = loaded[8:].reshape((60000))\n",
        "\n",
        "\tfd = open(os.path.join(data_dir,'t10k-images-idx3-ubyte'))\n",
        "\tloaded = np.fromfile(file=fd,dtype=np.uint8)\n",
        "\tteX = loaded[16:].reshape((10000,28*28)).astype(float)\n",
        "\n",
        "\tfd = open(os.path.join(data_dir,'t10k-labels-idx1-ubyte'))\n",
        "\tloaded = np.fromfile(file=fd,dtype=np.uint8)\n",
        "\tteY = loaded[8:].reshape((10000))\n",
        "\n",
        "\ttrX = trX/255.\n",
        "\tteX = teX/255.\n",
        "\n",
        "\ttrX = trX[:ntrain]\n",
        "\ttrY = trY[:ntrain]\n",
        "\n",
        "\tteX = teX[:ntest]\n",
        "\tteY = teY[:ntest]\n",
        "\n",
        "\tif onehot:\n",
        "\t\ttrY = one_hot(trY, 10)\n",
        "\t\tteY = one_hot(teY, 10)\n",
        "\telse:\n",
        "\t\ttrY = np.asarray(trY)\n",
        "\t\tteY = np.asarray(teY)\n",
        "\n",
        "\treturn trX,teX,trY,teY\n",
        "'''\n",
        "import theano\n",
        "from theano import tensor as T\n",
        "from theano.sandbox.rng_mrg import MRG_RandomStreams as RandomStreams\n",
        "import numpy as np\n",
        "#from load import mnist\n",
        "from theano.tensor.nnet.conv import conv2d\n",
        "from theano.tensor.signal.pool import max_pool_2d_same_size\n",
        "from keras.datasets import mnist\n",
        "from keras.utils import np_utils\n",
        "\n",
        "\n",
        "\n",
        "\n",
        "srng = RandomStreams()\n",
        "\n",
        "def floatX(X):\n",
        "    return np.asarray(X, dtype=theano.config.floatX)\n",
        "\n",
        "def init_weights(shape):\n",
        "    return theano.shared(floatX(np.random.randn(*shape) * 0.01))\n",
        "\n",
        "def rectify(X):\n",
        "    return T.maximum(X, 0.)\n",
        "\n",
        "def softmax(X):\n",
        "    e_x = T.exp(X - X.max(axis=1).dimshuffle(0, 'x'))\n",
        "    return e_x / e_x.sum(axis=1).dimshuffle(0, 'x')\n",
        "\n",
        "def dropout(X, p=0.):\n",
        "    if p > 0:\n",
        "        retain_prob = 1 - p\n",
        "        X *= srng.binomial(X.shape, p=retain_prob, dtype=theano.config.floatX)\n",
        "        X /= retain_prob\n",
        "    return X\n",
        "\n",
        "def RMSprop(cost, params, lr=0.001, rho=0.9, epsilon=1e-6):\n",
        "    grads = T.grad(cost=cost, wrt=params)\n",
        "    updates = []\n",
        "    for p, g in zip(params, grads):\n",
        "        acc = theano.shared(p.get_value() * 0.)\n",
        "        acc_new = rho * acc + (1 - rho) * g ** 2\n",
        "        gradient_scaling = T.sqrt(acc_new + epsilon)\n",
        "        g = g / gradient_scaling\n",
        "        updates.append((acc, acc_new))\n",
        "        updates.append((p, p - lr * g))\n",
        "    return updates\n",
        "\n",
        "def model(X, w, w2, w3, w4, p_drop_conv, p_drop_hidden):\n",
        "    l1a = rectify(conv2d(X, w, border_mode='full'))\n",
        "    l1 = max_pool_2d(l1a, (2, 2))\n",
        "    l1 = dropout(l1, p_drop_conv)\n",
        "\n",
        "    l2a = rectify(conv2d(l1, w2))\n",
        "    l2 = max_pool_2d(l2a, (2, 2))\n",
        "    l2 = dropout(l2, p_drop_conv)\n",
        "\n",
        "    l3a = rectify(conv2d(l2, w3))\n",
        "    l3b = max_pool_2d(l3a, (2, 2))\n",
        "    l3 = T.flatten(l3b, outdim=2)\n",
        "    l3 = dropout(l3, p_drop_conv)\n",
        "\n",
        "    l4 = rectify(T.dot(l3, w4))\n",
        "    l4 = dropout(l4, p_drop_hidden)\n",
        "\n",
        "    pyx = softmax(T.dot(l4, w_o))\n",
        "    return l1, l2, l3, l4, pyx\n",
        "\n",
        "#trX, teX, trY, teY = mnist(onehot=True)\n",
        "(trX, trY), (teX, teY) = mnist.load_data()\n",
        "#(X_train, y_train), (X_test, y_test) = mnist.load_data()\n",
        "\n",
        "trY = np_utils.to_categorical(trY, 10)\n",
        "teY = np_utils.to_categorical(teY, 10)\n",
        "\n",
        "\n",
        "trX = trX.reshape(-1, 1, 28, 28)\n",
        "teX = teX.reshape(-1, 1, 28, 28)\n",
        "\n",
        "X = T.ftensor4()\n",
        "Y = T.fmatrix()\n",
        "\n",
        "w = init_weights((32, 1, 3, 3))\n",
        "w2 = init_weights((64, 32, 3, 3))\n",
        "w3 = init_weights((128, 64, 3, 3))\n",
        "w4 = init_weights((128 * 3 * 3, 625))\n",
        "w_o = init_weights((625, 10))\n",
        "\n",
        "noise_l1, noise_l2, noise_l3, noise_l4, noise_py_x = model(X, w, w2, w3, w4, 0.2, 0.5)\n",
        "l1, l2, l3, l4, py_x = model(X, w, w2, w3, w4, 0., 0.)\n",
        "y_x = T.argmax(py_x, axis=1)\n",
        "\n",
        "\n",
        "cost = T.mean(T.nnet.categorical_crossentropy(noise_py_x, Y))\n",
        "params = [w, w2, w3, w4, w_o]\n",
        "updates = RMSprop(cost, params, lr=0.001)\n",
        "\n",
        "train = theano.function(inputs=[X, Y], outputs=cost, updates=updates, allow_input_downcast=True)\n",
        "predict = theano.function(inputs=[X], outputs=y_x, allow_input_downcast=True)\n",
        "\n",
        "for i in range(100):\n",
        "    for start, end in zip(range(0, len(trX), 128), range(128, len(trX), 128)):\n",
        "        cost = train(trX[start:end], trY[start:end])\n",
        "    print(np.mean(np.argmax(teY, axis=1) == predict(teX)))"
      ],
      "execution_count": 0,
      "outputs": [
        {
          "output_type": "stream",
          "text": [
            "/usr/local/lib/python3.6/dist-packages/theano/tensor/nnet/conv.py:98: UserWarning: theano.tensor.nnet.conv.conv2d is deprecated. Use theano.tensor.nnet.conv2d instead.\n",
            "  warnings.warn(\"theano.tensor.nnet.conv.conv2d is deprecated.\"\n"
          ],
          "name": "stderr"
        },
        {
          "output_type": "error",
          "ename": "NotImplementedError",
          "evalue": "ignored",
          "traceback": [
            "\u001b[0;31m---------------------------------------------------------------------------\u001b[0m",
            "\u001b[0;31mNotImplementedError\u001b[0m                       Traceback (most recent call last)",
            "\u001b[0;32m<ipython-input-38-444ca07b9e11>\u001b[0m in \u001b[0;36m<module>\u001b[0;34m()\u001b[0m\n\u001b[1;32m    136\u001b[0m \u001b[0mw_o\u001b[0m \u001b[0;34m=\u001b[0m \u001b[0minit_weights\u001b[0m\u001b[0;34m(\u001b[0m\u001b[0;34m(\u001b[0m\u001b[0;36m625\u001b[0m\u001b[0;34m,\u001b[0m \u001b[0;36m10\u001b[0m\u001b[0;34m)\u001b[0m\u001b[0;34m)\u001b[0m\u001b[0;34m\u001b[0m\u001b[0m\n\u001b[1;32m    137\u001b[0m \u001b[0;34m\u001b[0m\u001b[0m\n\u001b[0;32m--> 138\u001b[0;31m \u001b[0mnoise_l1\u001b[0m\u001b[0;34m,\u001b[0m \u001b[0mnoise_l2\u001b[0m\u001b[0;34m,\u001b[0m \u001b[0mnoise_l3\u001b[0m\u001b[0;34m,\u001b[0m \u001b[0mnoise_l4\u001b[0m\u001b[0;34m,\u001b[0m \u001b[0mnoise_py_x\u001b[0m \u001b[0;34m=\u001b[0m \u001b[0mmodel\u001b[0m\u001b[0;34m(\u001b[0m\u001b[0mX\u001b[0m\u001b[0;34m,\u001b[0m \u001b[0mw\u001b[0m\u001b[0;34m,\u001b[0m \u001b[0mw2\u001b[0m\u001b[0;34m,\u001b[0m \u001b[0mw3\u001b[0m\u001b[0;34m,\u001b[0m \u001b[0mw4\u001b[0m\u001b[0;34m,\u001b[0m \u001b[0;36m0.2\u001b[0m\u001b[0;34m,\u001b[0m \u001b[0;36m0.5\u001b[0m\u001b[0;34m)\u001b[0m\u001b[0;34m\u001b[0m\u001b[0m\n\u001b[0m\u001b[1;32m    139\u001b[0m \u001b[0ml1\u001b[0m\u001b[0;34m,\u001b[0m \u001b[0ml2\u001b[0m\u001b[0;34m,\u001b[0m \u001b[0ml3\u001b[0m\u001b[0;34m,\u001b[0m \u001b[0ml4\u001b[0m\u001b[0;34m,\u001b[0m \u001b[0mpy_x\u001b[0m \u001b[0;34m=\u001b[0m \u001b[0mmodel\u001b[0m\u001b[0;34m(\u001b[0m\u001b[0mX\u001b[0m\u001b[0;34m,\u001b[0m \u001b[0mw\u001b[0m\u001b[0;34m,\u001b[0m \u001b[0mw2\u001b[0m\u001b[0;34m,\u001b[0m \u001b[0mw3\u001b[0m\u001b[0;34m,\u001b[0m \u001b[0mw4\u001b[0m\u001b[0;34m,\u001b[0m \u001b[0;36m0.\u001b[0m\u001b[0;34m,\u001b[0m \u001b[0;36m0.\u001b[0m\u001b[0;34m)\u001b[0m\u001b[0;34m\u001b[0m\u001b[0m\n\u001b[1;32m    140\u001b[0m \u001b[0my_x\u001b[0m \u001b[0;34m=\u001b[0m \u001b[0mT\u001b[0m\u001b[0;34m.\u001b[0m\u001b[0margmax\u001b[0m\u001b[0;34m(\u001b[0m\u001b[0mpy_x\u001b[0m\u001b[0;34m,\u001b[0m \u001b[0maxis\u001b[0m\u001b[0;34m=\u001b[0m\u001b[0;36m1\u001b[0m\u001b[0;34m)\u001b[0m\u001b[0;34m\u001b[0m\u001b[0m\n",
            "\u001b[0;32m<ipython-input-38-444ca07b9e11>\u001b[0m in \u001b[0;36mmodel\u001b[0;34m(X, w, w2, w3, w4, p_drop_conv, p_drop_hidden)\u001b[0m\n\u001b[1;32m     97\u001b[0m \u001b[0;34m\u001b[0m\u001b[0m\n\u001b[1;32m     98\u001b[0m \u001b[0;32mdef\u001b[0m \u001b[0mmodel\u001b[0m\u001b[0;34m(\u001b[0m\u001b[0mX\u001b[0m\u001b[0;34m,\u001b[0m \u001b[0mw\u001b[0m\u001b[0;34m,\u001b[0m \u001b[0mw2\u001b[0m\u001b[0;34m,\u001b[0m \u001b[0mw3\u001b[0m\u001b[0;34m,\u001b[0m \u001b[0mw4\u001b[0m\u001b[0;34m,\u001b[0m \u001b[0mp_drop_conv\u001b[0m\u001b[0;34m,\u001b[0m \u001b[0mp_drop_hidden\u001b[0m\u001b[0;34m)\u001b[0m\u001b[0;34m:\u001b[0m\u001b[0;34m\u001b[0m\u001b[0m\n\u001b[0;32m---> 99\u001b[0;31m     \u001b[0ml1a\u001b[0m \u001b[0;34m=\u001b[0m \u001b[0mrectify\u001b[0m\u001b[0;34m(\u001b[0m\u001b[0mconv2d\u001b[0m\u001b[0;34m(\u001b[0m\u001b[0mX\u001b[0m\u001b[0;34m,\u001b[0m \u001b[0mw\u001b[0m\u001b[0;34m,\u001b[0m \u001b[0mborder_mode\u001b[0m\u001b[0;34m=\u001b[0m\u001b[0;34m'full'\u001b[0m\u001b[0;34m)\u001b[0m\u001b[0;34m)\u001b[0m\u001b[0;34m\u001b[0m\u001b[0m\n\u001b[0m\u001b[1;32m    100\u001b[0m     \u001b[0ml1\u001b[0m \u001b[0;34m=\u001b[0m \u001b[0mmax_pool_2d\u001b[0m\u001b[0;34m(\u001b[0m\u001b[0ml1a\u001b[0m\u001b[0;34m,\u001b[0m \u001b[0;34m(\u001b[0m\u001b[0;36m2\u001b[0m\u001b[0;34m,\u001b[0m \u001b[0;36m2\u001b[0m\u001b[0;34m)\u001b[0m\u001b[0;34m)\u001b[0m\u001b[0;34m\u001b[0m\u001b[0m\n\u001b[1;32m    101\u001b[0m     \u001b[0ml1\u001b[0m \u001b[0;34m=\u001b[0m \u001b[0mdropout\u001b[0m\u001b[0;34m(\u001b[0m\u001b[0ml1\u001b[0m\u001b[0;34m,\u001b[0m \u001b[0mp_drop_conv\u001b[0m\u001b[0;34m)\u001b[0m\u001b[0;34m\u001b[0m\u001b[0m\n",
            "\u001b[0;32m/usr/local/lib/python3.6/dist-packages/theano/tensor/nnet/conv.py\u001b[0m in \u001b[0;36mconv2d\u001b[0;34m(input, filters, image_shape, filter_shape, border_mode, subsample, **kargs)\u001b[0m\n\u001b[1;32m    154\u001b[0m                 imshp=imshp, kshp=kshp, nkern=nkern, bsize=bsize, **kargs)\n\u001b[1;32m    155\u001b[0m \u001b[0;34m\u001b[0m\u001b[0m\n\u001b[0;32m--> 156\u001b[0;31m     \u001b[0;32mreturn\u001b[0m \u001b[0mop\u001b[0m\u001b[0;34m(\u001b[0m\u001b[0minput\u001b[0m\u001b[0;34m,\u001b[0m \u001b[0mfilters\u001b[0m\u001b[0;34m)\u001b[0m\u001b[0;34m\u001b[0m\u001b[0m\n\u001b[0m\u001b[1;32m    157\u001b[0m \u001b[0;34m\u001b[0m\u001b[0m\n\u001b[1;32m    158\u001b[0m \u001b[0;34m\u001b[0m\u001b[0m\n",
            "\u001b[0;32m/usr/local/lib/python3.6/dist-packages/theano/gof/op.py\u001b[0m in \u001b[0;36m__call__\u001b[0;34m(self, *inputs, **kwargs)\u001b[0m\n\u001b[1;32m    613\u001b[0m         \"\"\"\n\u001b[1;32m    614\u001b[0m         \u001b[0mreturn_list\u001b[0m \u001b[0;34m=\u001b[0m \u001b[0mkwargs\u001b[0m\u001b[0;34m.\u001b[0m\u001b[0mpop\u001b[0m\u001b[0;34m(\u001b[0m\u001b[0;34m'return_list'\u001b[0m\u001b[0;34m,\u001b[0m \u001b[0;32mFalse\u001b[0m\u001b[0;34m)\u001b[0m\u001b[0;34m\u001b[0m\u001b[0m\n\u001b[0;32m--> 615\u001b[0;31m         \u001b[0mnode\u001b[0m \u001b[0;34m=\u001b[0m \u001b[0mself\u001b[0m\u001b[0;34m.\u001b[0m\u001b[0mmake_node\u001b[0m\u001b[0;34m(\u001b[0m\u001b[0;34m*\u001b[0m\u001b[0minputs\u001b[0m\u001b[0;34m,\u001b[0m \u001b[0;34m**\u001b[0m\u001b[0mkwargs\u001b[0m\u001b[0;34m)\u001b[0m\u001b[0;34m\u001b[0m\u001b[0m\n\u001b[0m\u001b[1;32m    616\u001b[0m \u001b[0;34m\u001b[0m\u001b[0m\n\u001b[1;32m    617\u001b[0m         \u001b[0;32mif\u001b[0m \u001b[0mconfig\u001b[0m\u001b[0;34m.\u001b[0m\u001b[0mcompute_test_value\u001b[0m \u001b[0;34m!=\u001b[0m \u001b[0;34m'off'\u001b[0m\u001b[0;34m:\u001b[0m\u001b[0;34m\u001b[0m\u001b[0m\n",
            "\u001b[0;32m/usr/local/lib/python3.6/dist-packages/theano/tensor/nnet/conv.py\u001b[0m in \u001b[0;36mmake_node\u001b[0;34m(self, inputs, kerns)\u001b[0m\n\u001b[1;32m    656\u001b[0m             raise NotImplementedError(\n\u001b[1;32m    657\u001b[0m                 \u001b[0;34m\"The image and the kernel must have the same type.\"\u001b[0m\u001b[0;34m\u001b[0m\u001b[0m\n\u001b[0;32m--> 658\u001b[0;31m                 \"inputs(%s), kerns(%s)\" % (_inputs.dtype, _kerns.dtype))\n\u001b[0m\u001b[1;32m    659\u001b[0m         \u001b[0mbcastable23\u001b[0m \u001b[0;34m=\u001b[0m \u001b[0;34m[\u001b[0m\u001b[0mself\u001b[0m\u001b[0;34m.\u001b[0m\u001b[0moutshp\u001b[0m\u001b[0;34m[\u001b[0m\u001b[0;36m0\u001b[0m\u001b[0;34m]\u001b[0m \u001b[0;34m==\u001b[0m \u001b[0;36m1\u001b[0m\u001b[0;34m,\u001b[0m \u001b[0mself\u001b[0m\u001b[0;34m.\u001b[0m\u001b[0moutshp\u001b[0m\u001b[0;34m[\u001b[0m\u001b[0;36m1\u001b[0m\u001b[0;34m]\u001b[0m \u001b[0;34m==\u001b[0m \u001b[0;36m1\u001b[0m\u001b[0;34m]\u001b[0m\u001b[0;34m\u001b[0m\u001b[0m\n\u001b[1;32m    660\u001b[0m         output = theano.tensor.tensor(dtype=_inputs.type.dtype,\n",
            "\u001b[0;31mNotImplementedError\u001b[0m: The image and the kernel must have the same type.inputs(float32), kerns(float64)"
          ]
        }
      ]
    },
    {
      "metadata": {
        "id": "cYWVIj5KcsSr",
        "colab_type": "text"
      },
      "cell_type": "markdown",
      "source": [
        "# save the trained keras model to a local drive"
      ]
    },
    {
      "metadata": {
        "id": "5cOzInxFczK2",
        "colab_type": "code",
        "colab": {
          "base_uri": "https://localhost:8080/",
          "height": 5367
        },
        "outputId": "9ed13797-7a23-4fe5-c421-a7de791f81ea"
      },
      "cell_type": "code",
      "source": [
        "from keras import backend as K\n",
        "import keras, os, importlib\n",
        "\n",
        "def set_keras_backend(backend):\n",
        "\n",
        "    if K.backend() != backend:\n",
        "        os.environ['KERAS_BACKEND'] = backend\n",
        "        importlib.reload(K)\n",
        "        #reload(K)\n",
        "        assert K.backend() == backend    \n",
        "\n",
        "print(keras.backend.backend())\n",
        "print(keras.backend.image_dim_ordering())\n",
        "#'''\n",
        "set_keras_backend(\"theano\")\n",
        "K.set_image_dim_ordering('th')\n",
        "\n",
        "\n",
        "from google.colab import files\n",
        "# MLP for Pima Indians Dataset Serialize to JSON and HDF5\n",
        "from keras.models import Sequential\n",
        "from keras.layers import Dense\n",
        "from keras.models import model_from_json\n",
        "import numpy\n",
        "import os\n",
        "\n",
        "# fix random seed for reproducibility\n",
        "numpy.random.seed(7)\n",
        "# load pima indians dataset\n",
        "!pip install -U -q PyDrive\n",
        "from pydrive.auth import GoogleAuth\n",
        "from pydrive.drive import GoogleDrive\n",
        "from google.colab import auth\n",
        "from oauth2client.client import GoogleCredentials\n",
        "auth.authenticate_user()\n",
        "gauth = GoogleAuth()\n",
        "gauth.credentials = GoogleCredentials.get_application_default()\n",
        "drive = GoogleDrive(gauth)\n",
        "\n",
        "#2. Get the file\n",
        "downloaded = drive.CreateFile({'id':'1HgOhcTez2TjuO4_dS1ynynokTRE4lh4L'}) # replace the id with id of file you want to access\n",
        "downloaded.GetContentFile('pima-indians-diabetes.csv')\n",
        "\n",
        "dataset = numpy.loadtxt(\"pima-indians-diabetes.csv\", delimiter=\",\")\n",
        "# split into input (X) and output (Y) variables\n",
        "X = dataset[:, 0:8]\n",
        "Y = dataset[:, 8]\n",
        "# create model\n",
        "model = Sequential()\n",
        "model.add(Dense(12, input_dim=8, kernel_initializer='uniform', activation='relu'))\n",
        "model.add(Dense(8, kernel_initializer='uniform', activation='relu'))\n",
        "model.add(Dense(1, kernel_initializer='uniform', activation='sigmoid'))\n",
        "# Compile model\n",
        "model.compile(loss='binary_crossentropy', optimizer='adam', metrics=['accuracy'])\n",
        "# Fit the model\n",
        "model.fit(X, Y, epochs=150, batch_size=10, verbose=2)\n",
        "# evaluate the model\n",
        "scores = model.evaluate(X, Y, verbose=0)\n",
        "print(\"%s: %.2f%%\" % (model.metrics_names[1], scores[1] * 100))\n",
        "\n",
        "# serialize model to JSON\n",
        "model_json = model.to_json()\n",
        "with open(\"model_indian.json\", \"w\") as json_file:\n",
        "    json_file.write(model_json)\n",
        "# serialize weights to HDF5\n",
        "model.save_weights(\"model_indian.h5\")\n",
        "print(\"Saved model to disk\")\n",
        "files.download('model_indian.json')\n",
        "files.download('model_indian.h5')\n",
        "\n"
      ],
      "execution_count": 12,
      "outputs": [
        {
          "output_type": "stream",
          "text": [
            "theano\n",
            "th\n",
            "Epoch 1/150\n",
            " - 0s - loss: 0.6787 - acc: 0.6510\n",
            "Epoch 2/150\n",
            " - 0s - loss: 0.6618 - acc: 0.6510\n",
            "Epoch 3/150\n",
            " - 0s - loss: 0.6540 - acc: 0.6510\n",
            "Epoch 4/150\n",
            " - 0s - loss: 0.6496 - acc: 0.6510\n",
            "Epoch 5/150\n",
            " - 0s - loss: 0.6400 - acc: 0.6589\n",
            "Epoch 6/150\n",
            " - 0s - loss: 0.6222 - acc: 0.6797\n",
            "Epoch 7/150\n",
            " - 0s - loss: 0.6150 - acc: 0.6784\n",
            "Epoch 8/150\n",
            " - 0s - loss: 0.6026 - acc: 0.6914\n",
            "Epoch 9/150\n",
            " - 0s - loss: 0.5955 - acc: 0.6875\n",
            "Epoch 10/150\n",
            " - 0s - loss: 0.5943 - acc: 0.6940\n",
            "Epoch 11/150\n",
            " - 0s - loss: 0.5905 - acc: 0.6940\n",
            "Epoch 12/150\n",
            " - 0s - loss: 0.5898 - acc: 0.6914\n",
            "Epoch 13/150\n",
            " - 0s - loss: 0.5897 - acc: 0.6823\n",
            "Epoch 14/150\n",
            " - 0s - loss: 0.5836 - acc: 0.6927\n",
            "Epoch 15/150\n",
            " - 0s - loss: 0.5796 - acc: 0.6966\n",
            "Epoch 16/150\n",
            " - 0s - loss: 0.5780 - acc: 0.7018\n",
            "Epoch 17/150\n",
            " - 0s - loss: 0.5760 - acc: 0.7096\n",
            "Epoch 18/150\n",
            " - 0s - loss: 0.5832 - acc: 0.6914\n",
            "Epoch 19/150\n",
            " - 0s - loss: 0.5771 - acc: 0.7057\n",
            "Epoch 20/150\n",
            " - 0s - loss: 0.5766 - acc: 0.7096\n",
            "Epoch 21/150\n",
            " - 0s - loss: 0.5700 - acc: 0.7018\n",
            "Epoch 22/150\n",
            " - 0s - loss: 0.5725 - acc: 0.7018\n",
            "Epoch 23/150\n",
            " - 0s - loss: 0.5696 - acc: 0.7122\n",
            "Epoch 24/150\n",
            " - 0s - loss: 0.5730 - acc: 0.7161\n",
            "Epoch 25/150\n",
            " - 0s - loss: 0.5664 - acc: 0.7201\n",
            "Epoch 26/150\n",
            " - 0s - loss: 0.5728 - acc: 0.7018\n",
            "Epoch 27/150\n",
            " - 0s - loss: 0.5687 - acc: 0.7083\n",
            "Epoch 28/150\n",
            " - 0s - loss: 0.5611 - acc: 0.7161\n",
            "Epoch 29/150\n",
            " - 0s - loss: 0.5641 - acc: 0.7148\n",
            "Epoch 30/150\n",
            " - 0s - loss: 0.5612 - acc: 0.7109\n",
            "Epoch 31/150\n",
            " - 0s - loss: 0.5583 - acc: 0.7227\n",
            "Epoch 32/150\n",
            " - 0s - loss: 0.5557 - acc: 0.7148\n",
            "Epoch 33/150\n",
            " - 0s - loss: 0.5568 - acc: 0.7018\n",
            "Epoch 34/150\n",
            " - 0s - loss: 0.5573 - acc: 0.7279\n",
            "Epoch 35/150\n",
            " - 0s - loss: 0.5537 - acc: 0.7135\n",
            "Epoch 36/150\n",
            " - 0s - loss: 0.5506 - acc: 0.7292\n",
            "Epoch 37/150\n",
            " - 0s - loss: 0.5478 - acc: 0.7214\n",
            "Epoch 38/150\n",
            " - 0s - loss: 0.5544 - acc: 0.7266\n",
            "Epoch 39/150\n",
            " - 0s - loss: 0.5492 - acc: 0.7266\n",
            "Epoch 40/150\n",
            " - 0s - loss: 0.5475 - acc: 0.7305\n",
            "Epoch 41/150\n",
            " - 0s - loss: 0.5419 - acc: 0.7318\n",
            "Epoch 42/150\n",
            " - 0s - loss: 0.5429 - acc: 0.7331\n",
            "Epoch 43/150\n",
            " - 0s - loss: 0.5338 - acc: 0.7422\n",
            "Epoch 44/150\n",
            " - 0s - loss: 0.5397 - acc: 0.7383\n",
            "Epoch 45/150\n",
            " - 0s - loss: 0.5392 - acc: 0.7292\n",
            "Epoch 46/150\n"
          ],
          "name": "stdout"
        },
        {
          "output_type": "stream",
          "text": [
            " - 0s - loss: 0.5335 - acc: 0.7396\n",
            "Epoch 47/150\n",
            " - 0s - loss: 0.5315 - acc: 0.7565\n",
            "Epoch 48/150\n",
            " - 0s - loss: 0.5298 - acc: 0.7591\n",
            "Epoch 49/150\n",
            " - 0s - loss: 0.5234 - acc: 0.7513\n",
            "Epoch 50/150\n",
            " - 0s - loss: 0.5245 - acc: 0.7474\n",
            "Epoch 51/150\n",
            " - 0s - loss: 0.5214 - acc: 0.7565\n",
            "Epoch 52/150\n",
            " - 0s - loss: 0.5283 - acc: 0.7422\n",
            "Epoch 53/150\n",
            " - 0s - loss: 0.5217 - acc: 0.7565\n",
            "Epoch 54/150\n",
            " - 0s - loss: 0.5224 - acc: 0.7526\n",
            "Epoch 55/150\n",
            " - 0s - loss: 0.5186 - acc: 0.7617\n",
            "Epoch 56/150\n",
            " - 0s - loss: 0.5176 - acc: 0.7734\n",
            "Epoch 57/150\n",
            " - 0s - loss: 0.5170 - acc: 0.7435\n",
            "Epoch 58/150\n",
            " - 0s - loss: 0.5139 - acc: 0.7565\n",
            "Epoch 59/150\n",
            " - 0s - loss: 0.5122 - acc: 0.7669\n",
            "Epoch 60/150\n",
            " - 0s - loss: 0.5117 - acc: 0.7578\n",
            "Epoch 61/150\n",
            " - 0s - loss: 0.5039 - acc: 0.7617\n",
            "Epoch 62/150\n",
            " - 0s - loss: 0.5077 - acc: 0.7617\n",
            "Epoch 63/150\n",
            " - 0s - loss: 0.5151 - acc: 0.7578\n",
            "Epoch 64/150\n",
            " - 0s - loss: 0.5099 - acc: 0.7669\n",
            "Epoch 65/150\n",
            " - 0s - loss: 0.5002 - acc: 0.7682\n",
            "Epoch 66/150\n",
            " - 0s - loss: 0.4986 - acc: 0.7656\n",
            "Epoch 67/150\n",
            " - 0s - loss: 0.4968 - acc: 0.7578\n",
            "Epoch 68/150\n",
            " - 0s - loss: 0.5026 - acc: 0.7591\n",
            "Epoch 69/150\n",
            " - 0s - loss: 0.4938 - acc: 0.7669\n",
            "Epoch 70/150\n",
            " - 0s - loss: 0.5023 - acc: 0.7552\n",
            "Epoch 71/150\n",
            " - 0s - loss: 0.4955 - acc: 0.7643\n",
            "Epoch 72/150\n",
            " - 0s - loss: 0.4931 - acc: 0.7643\n",
            "Epoch 73/150\n",
            " - 0s - loss: 0.4876 - acc: 0.7630\n",
            "Epoch 74/150\n",
            " - 0s - loss: 0.4936 - acc: 0.7539\n",
            "Epoch 75/150\n",
            " - 0s - loss: 0.4904 - acc: 0.7669\n",
            "Epoch 76/150\n",
            " - 0s - loss: 0.4858 - acc: 0.7591\n",
            "Epoch 77/150\n",
            " - 0s - loss: 0.4879 - acc: 0.7617\n",
            "Epoch 78/150\n",
            " - 0s - loss: 0.4843 - acc: 0.7708\n",
            "Epoch 79/150\n",
            " - 0s - loss: 0.4964 - acc: 0.7656\n",
            "Epoch 80/150\n",
            " - 0s - loss: 0.4841 - acc: 0.7669\n",
            "Epoch 81/150\n",
            " - 0s - loss: 0.4827 - acc: 0.7643\n",
            "Epoch 82/150\n",
            " - 0s - loss: 0.4824 - acc: 0.7656\n",
            "Epoch 83/150\n",
            " - 0s - loss: 0.4792 - acc: 0.7826\n",
            "Epoch 84/150\n",
            " - 0s - loss: 0.4782 - acc: 0.7734\n",
            "Epoch 85/150\n",
            " - 0s - loss: 0.4803 - acc: 0.7786\n",
            "Epoch 86/150\n",
            " - 0s - loss: 0.4840 - acc: 0.7617\n",
            "Epoch 87/150\n",
            " - 0s - loss: 0.4849 - acc: 0.7708\n",
            "Epoch 88/150\n",
            " - 0s - loss: 0.4731 - acc: 0.7747\n",
            "Epoch 89/150\n",
            " - 0s - loss: 0.4824 - acc: 0.7734\n",
            "Epoch 90/150\n",
            " - 0s - loss: 0.4772 - acc: 0.7734\n",
            "Epoch 91/150\n"
          ],
          "name": "stdout"
        },
        {
          "output_type": "stream",
          "text": [
            " - 0s - loss: 0.4721 - acc: 0.7760\n",
            "Epoch 92/150\n",
            " - 0s - loss: 0.4784 - acc: 0.7760\n",
            "Epoch 93/150\n",
            " - 0s - loss: 0.4731 - acc: 0.7721\n",
            "Epoch 94/150\n",
            " - 0s - loss: 0.4775 - acc: 0.7643\n",
            "Epoch 95/150\n",
            " - 0s - loss: 0.4712 - acc: 0.7591\n",
            "Epoch 96/150\n",
            " - 0s - loss: 0.4711 - acc: 0.7839\n",
            "Epoch 97/150\n",
            " - 0s - loss: 0.4682 - acc: 0.7747\n",
            "Epoch 98/150\n",
            " - 0s - loss: 0.4692 - acc: 0.7826\n",
            "Epoch 99/150\n",
            " - 0s - loss: 0.4651 - acc: 0.7826\n",
            "Epoch 100/150\n",
            " - 0s - loss: 0.4654 - acc: 0.7865\n",
            "Epoch 101/150\n",
            " - 0s - loss: 0.4672 - acc: 0.7760\n",
            "Epoch 102/150\n",
            " - 0s - loss: 0.4721 - acc: 0.7721\n",
            "Epoch 103/150\n",
            " - 0s - loss: 0.4785 - acc: 0.7695\n",
            "Epoch 104/150\n",
            " - 0s - loss: 0.4690 - acc: 0.7852\n",
            "Epoch 105/150\n",
            " - 0s - loss: 0.4856 - acc: 0.7643\n",
            "Epoch 106/150\n",
            " - 0s - loss: 0.4651 - acc: 0.7721\n",
            "Epoch 107/150\n",
            " - 0s - loss: 0.4672 - acc: 0.7708\n",
            "Epoch 108/150\n",
            " - 0s - loss: 0.4675 - acc: 0.7799\n",
            "Epoch 109/150\n",
            " - 0s - loss: 0.4629 - acc: 0.7799\n",
            "Epoch 110/150\n",
            " - 0s - loss: 0.4679 - acc: 0.7760\n",
            "Epoch 111/150\n",
            " - 0s - loss: 0.4673 - acc: 0.7826\n",
            "Epoch 112/150\n",
            " - 0s - loss: 0.4647 - acc: 0.7708\n",
            "Epoch 113/150\n",
            " - 0s - loss: 0.4728 - acc: 0.7695\n",
            "Epoch 114/150\n",
            " - 0s - loss: 0.4741 - acc: 0.7578\n",
            "Epoch 115/150\n",
            " - 0s - loss: 0.4616 - acc: 0.7812\n",
            "Epoch 116/150\n",
            " - 0s - loss: 0.4709 - acc: 0.7799\n",
            "Epoch 117/150\n",
            " - 0s - loss: 0.4620 - acc: 0.7734\n",
            "Epoch 118/150\n",
            " - 0s - loss: 0.4663 - acc: 0.7734\n",
            "Epoch 119/150\n",
            " - 0s - loss: 0.4573 - acc: 0.7799\n",
            "Epoch 120/150\n",
            " - 0s - loss: 0.4615 - acc: 0.7773\n",
            "Epoch 121/150\n",
            " - 0s - loss: 0.4699 - acc: 0.7956\n",
            "Epoch 122/150\n",
            " - 0s - loss: 0.4577 - acc: 0.7930\n",
            "Epoch 123/150\n",
            " - 0s - loss: 0.4591 - acc: 0.7839\n",
            "Epoch 124/150\n",
            " - 0s - loss: 0.4551 - acc: 0.7786\n",
            "Epoch 125/150\n",
            " - 0s - loss: 0.4637 - acc: 0.7773\n",
            "Epoch 126/150\n",
            " - 0s - loss: 0.4582 - acc: 0.7760\n",
            "Epoch 127/150\n",
            " - 0s - loss: 0.4675 - acc: 0.7734\n",
            "Epoch 128/150\n",
            " - 0s - loss: 0.4558 - acc: 0.7799\n",
            "Epoch 129/150\n",
            " - 0s - loss: 0.4645 - acc: 0.7773\n",
            "Epoch 130/150\n",
            " - 0s - loss: 0.4519 - acc: 0.7760\n",
            "Epoch 131/150\n",
            " - 0s - loss: 0.4603 - acc: 0.7839\n",
            "Epoch 132/150\n",
            " - 0s - loss: 0.4555 - acc: 0.7891\n",
            "Epoch 133/150\n",
            " - 0s - loss: 0.4602 - acc: 0.7734\n",
            "Epoch 134/150\n",
            " - 0s - loss: 0.4642 - acc: 0.7604\n",
            "Epoch 135/150\n",
            " - 0s - loss: 0.4551 - acc: 0.7682\n"
          ],
          "name": "stdout"
        },
        {
          "output_type": "stream",
          "text": [
            "Epoch 136/150\n",
            " - 0s - loss: 0.4573 - acc: 0.7786\n",
            "Epoch 137/150\n",
            " - 0s - loss: 0.4555 - acc: 0.7904\n",
            "Epoch 138/150\n",
            " - 0s - loss: 0.4597 - acc: 0.7891\n",
            "Epoch 139/150\n",
            " - 0s - loss: 0.4447 - acc: 0.7799\n",
            "Epoch 140/150\n",
            " - 0s - loss: 0.4538 - acc: 0.7852\n",
            "Epoch 141/150\n",
            " - 0s - loss: 0.4493 - acc: 0.7839\n",
            "Epoch 142/150\n",
            " - 0s - loss: 0.4628 - acc: 0.7669\n",
            "Epoch 143/150\n",
            " - 0s - loss: 0.4506 - acc: 0.7852\n",
            "Epoch 144/150\n",
            " - 0s - loss: 0.4505 - acc: 0.7773\n",
            "Epoch 145/150\n",
            " - 0s - loss: 0.4651 - acc: 0.7669\n",
            "Epoch 146/150\n",
            " - 0s - loss: 0.4556 - acc: 0.7799\n",
            "Epoch 147/150\n",
            " - 0s - loss: 0.4559 - acc: 0.7760\n",
            "Epoch 148/150\n",
            " - 0s - loss: 0.4527 - acc: 0.7852\n",
            "Epoch 149/150\n",
            " - 0s - loss: 0.4518 - acc: 0.7760\n",
            "Epoch 150/150\n",
            " - 0s - loss: 0.4497 - acc: 0.7786\n",
            "acc: 79.30%\n",
            "Saved model to disk\n"
          ],
          "name": "stdout"
        }
      ]
    },
    {
      "metadata": {
        "id": "zrU25wU6nvdV",
        "colab_type": "text"
      },
      "cell_type": "markdown",
      "source": [
        "# google drive file upload"
      ]
    },
    {
      "metadata": {
        "id": "J7JJcHKrn0Xd",
        "colab_type": "code",
        "colab": {
          "resources": {
            "http://localhost:8080/nbextensions/google.colab/files.js": {
              "data": "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",
              "ok": true,
              "headers": [
                [
                  "content-type",
                  "application/javascript"
                ]
              ],
              "status": 200,
              "status_text": ""
            }
          },
          "base_uri": "https://localhost:8080/",
          "height": 42
        },
        "outputId": "783f63de-d28b-4c3d-d3fb-7ddf467cd843"
      },
      "cell_type": "code",
      "source": [
        "from google.colab import files\n",
        "uploaded = files.upload()\n",
        "for fn in uploaded.keys():\n",
        "  print('User uploaded file \"{name}\" with length {length} bytes'.format(\n",
        "      name=fn, length=len(uploaded[fn])))"
      ],
      "execution_count": 5,
      "outputs": [
        {
          "output_type": "display_data",
          "data": {
            "text/html": [
              "\n",
              "     <input type=\"file\" id=\"files-678d9cf7-5f06-4ccd-9aec-919f19ddabc6\" name=\"files[]\" multiple disabled />\n",
              "     <output id=\"result-678d9cf7-5f06-4ccd-9aec-919f19ddabc6\">\n",
              "      Upload widget is only available when the cell has been executed in the\n",
              "      current browser session. Please rerun this cell to enable.\n",
              "      </output>\n",
              "      <script src=\"/nbextensions/google.colab/files.js\"></script> "
            ],
            "text/plain": [
              "<IPython.core.display.HTML object>"
            ]
          },
          "metadata": {
            "tags": []
          }
        }
      ]
    }
  ]
}